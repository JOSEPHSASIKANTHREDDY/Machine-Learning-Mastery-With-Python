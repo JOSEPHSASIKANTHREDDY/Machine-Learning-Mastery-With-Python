{
 "cells": [
  {
   "cell_type": "code",
   "execution_count": 1,
   "metadata": {},
   "outputs": [],
   "source": [
    "# scipy\n",
    "import scipy"
   ]
  },
  {
   "cell_type": "code",
   "execution_count": 2,
   "metadata": {},
   "outputs": [
    {
     "name": "stdout",
     "output_type": "stream",
     "text": [
      "scipy: 1.1.0\n"
     ]
    }
   ],
   "source": [
    "print('scipy: {}'.format(scipy.__version__))"
   ]
  },
  {
   "cell_type": "code",
   "execution_count": 3,
   "metadata": {},
   "outputs": [
    {
     "name": "stdout",
     "output_type": "stream",
     "text": [
      "numpy: 1.15.4\n"
     ]
    }
   ],
   "source": [
    "# numpy\n",
    "import numpy\n",
    "print('numpy: {}'.format(numpy.__version__))"
   ]
  },
  {
   "cell_type": "code",
   "execution_count": 4,
   "metadata": {},
   "outputs": [
    {
     "name": "stdout",
     "output_type": "stream",
     "text": [
      "matplotlib: 3.0.1\n",
      "pandas: 0.23.4\n"
     ]
    }
   ],
   "source": [
    "# matplotlib\n",
    "import matplotlib\n",
    "print('matplotlib: {}'.format(matplotlib.__version__))\n",
    "# pandas\n",
    "import pandas\n",
    "print('pandas: {}'.format(pandas.__version__))"
   ]
  },
  {
   "cell_type": "code",
   "execution_count": 5,
   "metadata": {},
   "outputs": [
    {
     "name": "stdout",
     "output_type": "stream",
     "text": [
      "sklearn: 0.19.2\n"
     ]
    }
   ],
   "source": [
    "# scikit-learn\n",
    "import sklearn\n",
    "print('sklearn: {}'.format(sklearn.__version__))"
   ]
  },
  {
   "cell_type": "code",
   "execution_count": 6,
   "metadata": {},
   "outputs": [],
   "source": [
    "# Strings"
   ]
  },
  {
   "cell_type": "code",
   "execution_count": 7,
   "metadata": {},
   "outputs": [],
   "source": [
    "data=\"hello world\""
   ]
  },
  {
   "cell_type": "code",
   "execution_count": 8,
   "metadata": {},
   "outputs": [
    {
     "name": "stdout",
     "output_type": "stream",
     "text": [
      "h\n",
      "11\n",
      "hello world\n"
     ]
    }
   ],
   "source": [
    "print(data[0])\n",
    "print(len(data))\n",
    "print(data)"
   ]
  },
  {
   "cell_type": "code",
   "execution_count": 9,
   "metadata": {},
   "outputs": [
    {
     "name": "stdout",
     "output_type": "stream",
     "text": [
      "123.1\n",
      "10\n"
     ]
    }
   ],
   "source": [
    "# Numbers\n",
    "value = 123.1\n",
    "print(value)\n",
    "value = 10\n",
    "print(value)"
   ]
  },
  {
   "cell_type": "code",
   "execution_count": 10,
   "metadata": {},
   "outputs": [
    {
     "name": "stdout",
     "output_type": "stream",
     "text": [
      "True False\n"
     ]
    }
   ],
   "source": [
    "# Boolean\n",
    "a = True\n",
    "b = False\n",
    "print(a, b)"
   ]
  },
  {
   "cell_type": "code",
   "execution_count": 11,
   "metadata": {},
   "outputs": [
    {
     "name": "stdout",
     "output_type": "stream",
     "text": [
      "1 2 3\n"
     ]
    }
   ],
   "source": [
    "# Multiple Assignment\n",
    "a,b,c=1,2,3\n",
    "print(a,b,c)"
   ]
  },
  {
   "cell_type": "code",
   "execution_count": 12,
   "metadata": {},
   "outputs": [
    {
     "name": "stdout",
     "output_type": "stream",
     "text": [
      "None\n"
     ]
    }
   ],
   "source": [
    "# No value\n",
    "a = None\n",
    "print(a)"
   ]
  },
  {
   "cell_type": "code",
   "execution_count": 17,
   "metadata": {},
   "outputs": [
    {
     "name": "stdout",
     "output_type": "stream",
     "text": [
      "That is fast\n"
     ]
    }
   ],
   "source": [
    "value = 99\n",
    "if value == 99:\n",
    "    print(\"That is fast\") \n",
    "elif value > 200:\n",
    "    print(\"That is too fast\")\n",
    "else:\n",
    "    print(\"That is safe\")"
   ]
  },
  {
   "cell_type": "code",
   "execution_count": 20,
   "metadata": {},
   "outputs": [
    {
     "name": "stdout",
     "output_type": "stream",
     "text": [
      "0\n",
      "1\n",
      "2\n",
      "3\n",
      "4\n",
      "5\n",
      "6\n",
      "7\n",
      "8\n",
      "9\n"
     ]
    }
   ],
   "source": [
    "# For-Loop\n",
    "for i in range(10):\n",
    "    print(i)"
   ]
  },
  {
   "cell_type": "code",
   "execution_count": 21,
   "metadata": {},
   "outputs": [
    {
     "name": "stdout",
     "output_type": "stream",
     "text": [
      "0\n",
      "1\n",
      "2\n",
      "3\n",
      "4\n",
      "5\n",
      "6\n",
      "7\n",
      "8\n",
      "9\n"
     ]
    }
   ],
   "source": [
    "# While-Loop\n",
    "i = 0\n",
    "while i < 10:\n",
    "    print(i)\n",
    "    i += 1"
   ]
  },
  {
   "cell_type": "code",
   "execution_count": 22,
   "metadata": {},
   "outputs": [
    {
     "name": "stdout",
     "output_type": "stream",
     "text": [
      "(1, 2, 3)\n"
     ]
    }
   ],
   "source": [
    "#Tuple\n",
    "a=(1,2,3)\n",
    "print(a)"
   ]
  },
  {
   "cell_type": "code",
   "execution_count": 25,
   "metadata": {},
   "outputs": [
    {
     "name": "stdout",
     "output_type": "stream",
     "text": [
      "Zeroth Value: 1\n",
      "List Length: 4\n",
      "1\n",
      "2\n",
      "3\n",
      "4\n"
     ]
    }
   ],
   "source": [
    "#List\n",
    "mylist = [1, 2, 3]\n",
    "print(\"Zeroth Value: %d\"% mylist[0]) \n",
    "mylist.append(4)\n",
    "print(\"List Length: %d\"% len(mylist)) \n",
    "for value in mylist:\n",
    "    print(value) "
   ]
  },
  {
   "cell_type": "code",
   "execution_count": 26,
   "metadata": {},
   "outputs": [
    {
     "name": "stdout",
     "output_type": "stream",
     "text": [
      "A value: 1\n",
      "A value: 11\n",
      "Keys: dict_keys(['a', 'b', 'c'])\n",
      "Values: dict_values([11, 2, 3])\n",
      "11\n",
      "2\n",
      "3\n"
     ]
    }
   ],
   "source": [
    "#Dictionary\n",
    "mydict = {'a': 1, 'b': 2, 'c': 3}\n",
    "print(\"A value: %d\" % mydict['a']) \n",
    "mydict['a'] = 11\n",
    "print(\"A value: %d\" % mydict['a']) \n",
    "print(\"Keys: %s\"  % mydict.keys())\n",
    "print(\"Values: %s\" % mydict.values()) \n",
    "for key in mydict.keys():\n",
    "    print(mydict[key]) "
   ]
  },
  {
   "cell_type": "code",
   "execution_count": 27,
   "metadata": {},
   "outputs": [
    {
     "name": "stdout",
     "output_type": "stream",
     "text": [
      "4\n"
     ]
    }
   ],
   "source": [
    "# Sum function\n",
    "def mysum(x, y):\n",
    "    return x + y\n",
    "# Test sum function\n",
    "result = mysum(1, 3)\n",
    "print(result)"
   ]
  },
  {
   "cell_type": "code",
   "execution_count": 28,
   "metadata": {},
   "outputs": [
    {
     "name": "stdout",
     "output_type": "stream",
     "text": [
      "[1 2 3]\n",
      "(3,)\n"
     ]
    }
   ],
   "source": [
    "# define an array\n",
    "import numpy\n",
    "mylist = [1, 2, 3]\n",
    "myarray = numpy.array(mylist)\n",
    "print(myarray)\n",
    "print(myarray.shape)"
   ]
  },
  {
   "cell_type": "code",
   "execution_count": 29,
   "metadata": {},
   "outputs": [
    {
     "name": "stdout",
     "output_type": "stream",
     "text": [
      "[[1 2 3]\n",
      " [3 4 5]]\n",
      "(2, 3)\n",
      "First row: [1 2 3]\n",
      "Last row: [3 4 5]\n",
      "Specific row and col: 3\n",
      "Whole col: [3 5]\n"
     ]
    }
   ],
   "source": [
    "# access values\n",
    "import numpy\n",
    "mylist = [[1, 2, 3], [3, 4, 5]]\n",
    "myarray = numpy.array(mylist)\n",
    "print(myarray)\n",
    "print(myarray.shape)\n",
    "print(\"First row: %s\" % myarray[0]) \n",
    "print(\"Last row: %s\" % myarray[-1]) \n",
    "print(\"Specific row and col: %s\" % myarray[0, 2]) \n",
    "print(\"Whole col: %s\" % myarray[:, 2]) "
   ]
  },
  {
   "cell_type": "code",
   "execution_count": 34,
   "metadata": {},
   "outputs": [
    {
     "name": "stdout",
     "output_type": "stream",
     "text": [
      "Addition: [5 5 5]\n",
      "Multiplication: [6 6 6]\n"
     ]
    }
   ],
   "source": [
    "# arithmetic\n",
    "import numpy\n",
    "myarray1 = numpy.array([2, 2, 2])\n",
    "myarray2 = numpy.array([3, 3, 3])\n",
    "print(\"Addition: %s\" % (myarray1 + myarray2)) \n",
    "print(\"Multiplication: %s\" % (myarray1 * myarray2)) "
   ]
  },
  {
   "cell_type": "code",
   "execution_count": 39,
   "metadata": {},
   "outputs": [
    {
     "data": {
      "image/png": "[encoded data removed]",
      "text/plain": [
       "<Figure size 432x288 with 1 Axes>"
      ]
     },
     "metadata": {
      "needs_background": "light"
     },
     "output_type": "display_data"
    }
   ],
   "source": [
    "# basic line plot\n",
    "import matplotlib.pyplot as plt\n",
    "import numpy\n",
    "myarray = numpy.array([1, 2, 3,5,4,3,6,5,3,2,4,5,6,7,8,6,4,3,5,6,75,3,45])\n",
    "plt.plot(myarray)\n",
    "plt.xlabel('some x axis')\n",
    "plt.ylabel('some y axis')\n",
    "plt.show()"
   ]
  },
  {
   "cell_type": "code",
   "execution_count": 40,
   "metadata": {},
   "outputs": [
    {
     "data": {
      "image/png": "[encoded data removed]",
      "text/plain": [
       "<Figure size 432x288 with 1 Axes>"
      ]
     },
     "metadata": {
      "needs_background": "light"
     },
     "output_type": "display_data"
    }
   ],
   "source": [
    "# basic scatter plot\n",
    "import matplotlib.pyplot as plt\n",
    "import numpy\n",
    "x = numpy.array([1, 2, 3])\n",
    "y = numpy.array([2, 4, 6])\n",
    "plt.scatter(x,y)\n",
    "plt.xlabel('some x axis')\n",
    "plt.ylabel('some y axis')\n",
    "plt.show()"
   ]
  },
  {
   "cell_type": "code",
   "execution_count": 41,
   "metadata": {},
   "outputs": [
    {
     "name": "stdout",
     "output_type": "stream",
     "text": [
      "a    1\n",
      "b    2\n",
      "c    3\n",
      "dtype: int32\n"
     ]
    }
   ],
   "source": [
    "# series\n",
    "import numpy\n",
    "import pandas\n",
    "myarray = numpy.array([1, 2, 3])\n",
    "rownames = ['a', 'b', 'c']\n",
    "myseries = pandas.Series(myarray, index=rownames)\n",
    "print(myseries)"
   ]
  },
  {
   "cell_type": "code",
   "execution_count": 42,
   "metadata": {},
   "outputs": [
    {
     "name": "stdout",
     "output_type": "stream",
     "text": [
      "1\n",
      "1\n"
     ]
    }
   ],
   "source": [
    "print(myseries[0])\n",
    "print(myseries['a'])"
   ]
  },
  {
   "cell_type": "code",
   "execution_count": 43,
   "metadata": {},
   "outputs": [
    {
     "name": "stdout",
     "output_type": "stream",
     "text": [
      "   one  two  three\n",
      "a    1    2      3\n",
      "b    4    5      6\n"
     ]
    }
   ],
   "source": [
    "# dataframe\n",
    "import numpy\n",
    "import pandas\n",
    "myarray = numpy.array([[1, 2, 3], [4, 5, 6]])\n",
    "rownames = ['a', 'b']\n",
    "colnames = ['one', 'two', 'three']\n",
    "mydataframe = pandas.DataFrame(myarray, index=rownames, columns=colnames)\n",
    "print(mydataframe)"
   ]
  },
  {
   "cell_type": "code",
   "execution_count": 44,
   "metadata": {},
   "outputs": [
    {
     "name": "stdout",
     "output_type": "stream",
     "text": [
      "method 1:\n",
      "one column: a    1\n",
      "b    4\n",
      "Name: one, dtype: int32\n",
      "method 2:\n",
      "one column: a    1\n",
      "b    4\n",
      "Name: one, dtype: int32\n"
     ]
    }
   ],
   "source": [
    "print(\"method 1:\")\n",
    "print(\"one column: %s\" % mydataframe['one']) \n",
    "print(\"method 2:\")\n",
    "print(\"one column: %s\" % mydataframe.one) "
   ]
  },
  {
   "cell_type": "code",
   "execution_count": 51,
   "metadata": {},
   "outputs": [
    {
     "name": "stdout",
     "output_type": "stream",
     "text": [
      "(768, 9)\n"
     ]
    }
   ],
   "source": [
    "#Pregnancies,Glucose,BloodPressure,SkinThickness,Insulin,BMI,DiabetesPedigreeFunction,Age,Outcome\n",
    "# Load CSV Using Python Standard Library\n",
    "import csv\n",
    "import numpy\n",
    "filename = 'diabetes.csv'\n",
    "raw_data = open(filename, 'r')\n",
    "reader = csv.reader(raw_data, delimiter=',', quoting=csv.QUOTE_NONE)\n",
    "x = list(reader)\n",
    "data = numpy.array(x).astype('float')\n",
    "print(data.shape)"
   ]
  },
  {
   "cell_type": "code",
   "execution_count": 53,
   "metadata": {},
   "outputs": [
    {
     "name": "stdout",
     "output_type": "stream",
     "text": [
      "(768, 9)\n"
     ]
    }
   ],
   "source": [
    "# Load CSV using NumPy\n",
    "from numpy import loadtxt\n",
    "filename = 'diabetes.csv'\n",
    "raw_data = open(filename, 'r')\n",
    "data = loadtxt(raw_data, delimiter=\",\")\n",
    "print(data.shape)"
   ]
  },
  {
   "cell_type": "code",
   "execution_count": 54,
   "metadata": {},
   "outputs": [
    {
     "name": "stdout",
     "output_type": "stream",
     "text": [
      "(768, 9)\n"
     ]
    }
   ],
   "source": [
    "# Load CSV using Pandas\n",
    "from pandas import read_csv\n",
    "filename = 'diabetes.csv'\n",
    "names = ['Pregnancies','Glucose','BloodPressure','SkinThickness','Insulin','BMI','DiabetesPedigreeFunction','Age','Outcome']\n",
    "data = read_csv(filename, names=names)\n",
    "print(data.shape)"
   ]
  },
  {
   "cell_type": "code",
   "execution_count": 55,
   "metadata": {},
   "outputs": [],
   "source": [
    "peek = data.head(20)"
   ]
  },
  {
   "cell_type": "code",
   "execution_count": 56,
   "metadata": {},
   "outputs": [
    {
     "name": "stdout",
     "output_type": "stream",
     "text": [
      "    Pregnancies  Glucose  BloodPressure  SkinThickness  Insulin   BMI  \\\n",
      "0             6      148             72             35        0  33.6   \n",
      "1             1       85             66             29        0  26.6   \n",
      "2             8      183             64              0        0  23.3   \n",
      "3             1       89             66             23       94  28.1   \n",
      "4             0      137             40             35      168  43.1   \n",
      "5             5      116             74              0        0  25.6   \n",
      "6             3       78             50             32       88  31.0   \n",
      "7            10      115              0              0        0  35.3   \n",
      "8             2      197             70             45      543  30.5   \n",
      "9             8      125             96              0        0   0.0   \n",
      "10            4      110             92              0        0  37.6   \n",
      "11           10      168             74              0        0  38.0   \n",
      "12           10      139             80              0        0  27.1   \n",
      "13            1      189             60             23      846  30.1   \n",
      "14            5      166             72             19      175  25.8   \n",
      "15            7      100              0              0        0  30.0   \n",
      "16            0      118             84             47      230  45.8   \n",
      "17            7      107             74              0        0  29.6   \n",
      "18            1      103             30             38       83  43.3   \n",
      "19            1      115             70             30       96  34.6   \n",
      "\n",
      "    DiabetesPedigreeFunction  Age  Outcome  \n",
      "0                      0.627   50        1  \n",
      "1                      0.351   31        0  \n",
      "2                      0.672   32        1  \n",
      "3                      0.167   21        0  \n",
      "4                      2.288   33        1  \n",
      "5                      0.201   30        0  \n",
      "6                      0.248   26        1  \n",
      "7                      0.134   29        0  \n",
      "8                      0.158   53        1  \n",
      "9                      0.232   54        1  \n",
      "10                     0.191   30        0  \n",
      "11                     0.537   34        1  \n",
      "12                     1.441   57        0  \n",
      "13                     0.398   59        1  \n",
      "14                     0.587   51        1  \n",
      "15                     0.484   32        1  \n",
      "16                     0.551   31        1  \n",
      "17                     0.254   31        1  \n",
      "18                     0.183   33        0  \n",
      "19                     0.529   32        1  \n"
     ]
    }
   ],
   "source": [
    "print(peek)"
   ]
  },
  {
   "cell_type": "code",
   "execution_count": 57,
   "metadata": {},
   "outputs": [
    {
     "name": "stdout",
     "output_type": "stream",
     "text": [
      "     Pregnancies  Glucose  BloodPressure  SkinThickness  Insulin   BMI  \\\n",
      "0              6      148             72             35        0  33.6   \n",
      "1              1       85             66             29        0  26.6   \n",
      "2              8      183             64              0        0  23.3   \n",
      "3              1       89             66             23       94  28.1   \n",
      "4              0      137             40             35      168  43.1   \n",
      "5              5      116             74              0        0  25.6   \n",
      "6              3       78             50             32       88  31.0   \n",
      "7             10      115              0              0        0  35.3   \n",
      "8              2      197             70             45      543  30.5   \n",
      "9              8      125             96              0        0   0.0   \n",
      "10             4      110             92              0        0  37.6   \n",
      "11            10      168             74              0        0  38.0   \n",
      "12            10      139             80              0        0  27.1   \n",
      "13             1      189             60             23      846  30.1   \n",
      "14             5      166             72             19      175  25.8   \n",
      "15             7      100              0              0        0  30.0   \n",
      "16             0      118             84             47      230  45.8   \n",
      "17             7      107             74              0        0  29.6   \n",
      "18             1      103             30             38       83  43.3   \n",
      "19             1      115             70             30       96  34.6   \n",
      "20             3      126             88             41      235  39.3   \n",
      "21             8       99             84              0        0  35.4   \n",
      "22             7      196             90              0        0  39.8   \n",
      "23             9      119             80             35        0  29.0   \n",
      "24            11      143             94             33      146  36.6   \n",
      "25            10      125             70             26      115  31.1   \n",
      "26             7      147             76              0        0  39.4   \n",
      "27             1       97             66             15      140  23.2   \n",
      "28            13      145             82             19      110  22.2   \n",
      "29             5      117             92              0        0  34.1   \n",
      "..           ...      ...            ...            ...      ...   ...   \n",
      "738            2       99             60             17      160  36.6   \n",
      "739            1      102             74              0        0  39.5   \n",
      "740           11      120             80             37      150  42.3   \n",
      "741            3      102             44             20       94  30.8   \n",
      "742            1      109             58             18      116  28.5   \n",
      "743            9      140             94              0        0  32.7   \n",
      "744           13      153             88             37      140  40.6   \n",
      "745           12      100             84             33      105  30.0   \n",
      "746            1      147             94             41        0  49.3   \n",
      "747            1       81             74             41       57  46.3   \n",
      "748            3      187             70             22      200  36.4   \n",
      "749            6      162             62              0        0  24.3   \n",
      "750            4      136             70              0        0  31.2   \n",
      "751            1      121             78             39       74  39.0   \n",
      "752            3      108             62             24        0  26.0   \n",
      "753            0      181             88             44      510  43.3   \n",
      "754            8      154             78             32        0  32.4   \n",
      "755            1      128             88             39      110  36.5   \n",
      "756            7      137             90             41        0  32.0   \n",
      "757            0      123             72              0        0  36.3   \n",
      "758            1      106             76              0        0  37.5   \n",
      "759            6      190             92              0        0  35.5   \n",
      "760            2       88             58             26       16  28.4   \n",
      "761            9      170             74             31        0  44.0   \n",
      "762            9       89             62              0        0  22.5   \n",
      "763           10      101             76             48      180  32.9   \n",
      "764            2      122             70             27        0  36.8   \n",
      "765            5      121             72             23      112  26.2   \n",
      "766            1      126             60              0        0  30.1   \n",
      "767            1       93             70             31        0  30.4   \n",
      "\n",
      "     DiabetesPedigreeFunction  Age  Outcome  \n",
      "0                       0.627   50        1  \n",
      "1                       0.351   31        0  \n",
      "2                       0.672   32        1  \n",
      "3                       0.167   21        0  \n",
      "4                       2.288   33        1  \n",
      "5                       0.201   30        0  \n",
      "6                       0.248   26        1  \n",
      "7                       0.134   29        0  \n",
      "8                       0.158   53        1  \n",
      "9                       0.232   54        1  \n",
      "10                      0.191   30        0  \n",
      "11                      0.537   34        1  \n",
      "12                      1.441   57        0  \n",
      "13                      0.398   59        1  \n",
      "14                      0.587   51        1  \n",
      "15                      0.484   32        1  \n",
      "16                      0.551   31        1  \n",
      "17                      0.254   31        1  \n",
      "18                      0.183   33        0  \n",
      "19                      0.529   32        1  \n",
      "20                      0.704   27        0  \n",
      "21                      0.388   50        0  \n",
      "22                      0.451   41        1  \n",
      "23                      0.263   29        1  \n",
      "24                      0.254   51        1  \n",
      "25                      0.205   41        1  \n",
      "26                      0.257   43        1  \n",
      "27                      0.487   22        0  \n",
      "28                      0.245   57        0  \n",
      "29                      0.337   38        0  \n",
      "..                        ...  ...      ...  \n",
      "738                     0.453   21        0  \n",
      "739                     0.293   42        1  \n",
      "740                     0.785   48        1  \n",
      "741                     0.400   26        0  \n",
      "742                     0.219   22        0  \n",
      "743                     0.734   45        1  \n",
      "744                     1.174   39        0  \n",
      "745                     0.488   46        0  \n",
      "746                     0.358   27        1  \n",
      "747                     1.096   32        0  \n",
      "748                     0.408   36        1  \n",
      "749                     0.178   50        1  \n",
      "750                     1.182   22        1  \n",
      "751                     0.261   28        0  \n",
      "752                     0.223   25        0  \n",
      "753                     0.222   26        1  \n",
      "754                     0.443   45        1  \n",
      "755                     1.057   37        1  \n",
      "756                     0.391   39        0  \n",
      "757                     0.258   52        1  \n",
      "758                     0.197   26        0  \n",
      "759                     0.278   66        1  \n",
      "760                     0.766   22        0  \n",
      "761                     0.403   43        1  \n",
      "762                     0.142   33        0  \n",
      "763                     0.171   63        0  \n",
      "764                     0.340   27        0  \n",
      "765                     0.245   30        0  \n",
      "766                     0.349   47        1  \n",
      "767                     0.315   23        0  \n",
      "\n",
      "[768 rows x 9 columns]\n"
     ]
    }
   ],
   "source": [
    "print(data)"
   ]
  },
  {
   "cell_type": "code",
   "execution_count": 58,
   "metadata": {},
   "outputs": [
    {
     "name": "stdout",
     "output_type": "stream",
     "text": [
      "Pregnancies                   int64\n",
      "Glucose                       int64\n",
      "BloodPressure                 int64\n",
      "SkinThickness                 int64\n",
      "Insulin                       int64\n",
      "BMI                         float64\n",
      "DiabetesPedigreeFunction    float64\n",
      "Age                           int64\n",
      "Outcome                       int64\n",
      "dtype: object\n"
     ]
    }
   ],
   "source": [
    "types = data.dtypes\n",
    "print(types)"
   ]
  },
  {
   "cell_type": "code",
   "execution_count": 59,
   "metadata": {},
   "outputs": [
    {
     "name": "stdout",
     "output_type": "stream",
     "text": [
      "       Pregnancies  Glucose  BloodPressure  SkinThickness  Insulin      BMI  \\\n",
      "count      768.000  768.000        768.000        768.000  768.000  768.000   \n",
      "mean         3.845  120.895         69.105         20.536   79.799   31.993   \n",
      "std          3.370   31.973         19.356         15.952  115.244    7.884   \n",
      "min          0.000    0.000          0.000          0.000    0.000    0.000   \n",
      "25%          1.000   99.000         62.000          0.000    0.000   27.300   \n",
      "50%          3.000  117.000         72.000         23.000   30.500   32.000   \n",
      "75%          6.000  140.250         80.000         32.000  127.250   36.600   \n",
      "max         17.000  199.000        122.000         99.000  846.000   67.100   \n",
      "\n",
      "       DiabetesPedigreeFunction      Age  Outcome  \n",
      "count                   768.000  768.000  768.000  \n",
      "mean                      0.472   33.241    0.349  \n",
      "std                       0.331   11.760    0.477  \n",
      "min                       0.078   21.000    0.000  \n",
      "25%                       0.244   24.000    0.000  \n",
      "50%                       0.372   29.000    0.000  \n",
      "75%                       0.626   41.000    1.000  \n",
      "max                       2.420   81.000    1.000  \n"
     ]
    }
   ],
   "source": [
    "# Statistical Summary\n",
    "from pandas import read_csv\n",
    "from pandas import set_option\n",
    "filename = 'diabetes.csv'\n",
    "names = ['Pregnancies','Glucose','BloodPressure','SkinThickness','Insulin','BMI','DiabetesPedigreeFunction','Age','Outcome']\n",
    "data = read_csv(filename, names=names)\n",
    "set_option('display.width', 100)\n",
    "set_option('precision', 3)\n",
    "description = data.describe()\n",
    "print(description)"
   ]
  },
  {
   "cell_type": "code",
   "execution_count": 61,
   "metadata": {},
   "outputs": [
    {
     "name": "stdout",
     "output_type": "stream",
     "text": [
      "Outcome\n",
      "0    500\n",
      "1    268\n",
      "dtype: int64\n"
     ]
    }
   ],
   "source": [
    "# Class Distribution\n",
    "from pandas import read_csv\n",
    "filename = 'diabetes.csv'\n",
    "names = ['Pregnancies','Glucose','BloodPressure','SkinThickness','Insulin','BMI','DiabetesPedigreeFunction','Age','Outcome']\n",
    "data = read_csv(filename, names=names)\n",
    "class_counts = data.groupby('Outcome').size()\n",
    "print(class_counts)"
   ]
  },
  {
   "cell_type": "code",
   "execution_count": null,
   "metadata": {},
   "outputs": [],
   "source": [
    "# Pairwise Pearson correlations\n",
    "from pandas import read_csv\n",
    "from pandas import set_option\n",
    "filename = \"pima-indians-diabetes.data.csv\"\n",
    "names = ['preg', 'plas', 'pres', 'skin', 'test', 'mass', 'pedi', 'age', 'class']\n",
    "data = read_csv(filename, names=names)\n",
    "set_option('display.width', 100)\n",
    "set_option('precision', 3)\n",
    "correlations = data.corr(method='pearson')\n",
    "print(correlations)"
   ]
  }
 ],
 "metadata": {
  "kernelspec": {
   "display_name": "Python 3",
   "language": "python",
   "name": "python3"
  },
  "language_info": {
   "codemirror_mode": {
    "name": "ipython",
    "version": 3
   },
   "file_extension": ".py",
   "mimetype": "text/x-python",
   "name": "python",
   "nbconvert_exporter": "python",
   "pygments_lexer": "ipython3",
   "version": "3.7.0"
  }
 },
 "nbformat": 4,
 "nbformat_minor": 2
}
